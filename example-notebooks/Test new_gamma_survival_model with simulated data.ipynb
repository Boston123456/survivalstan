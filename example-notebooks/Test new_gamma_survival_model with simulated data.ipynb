{
 "cells": [
  {
   "cell_type": "code",
   "execution_count": 1,
   "metadata": {},
   "outputs": [
    {
     "name": "stderr",
     "output_type": "stream",
     "text": [
      "INFO:stancache.seed:Setting seed to 1245502385\n"
     ]
    }
   ],
   "source": [
    "%load_ext autoreload\n",
    "%autoreload 2\n",
    "%matplotlib inline\n",
    "import random\n",
    "random.seed(1100038344)\n",
    "import survivalstan\n",
    "import numpy as np\n",
    "import pandas as pd\n",
    "from stancache import stancache\n",
    "from matplotlib import pyplot as plt"
   ]
  },
  {
   "cell_type": "markdown",
   "metadata": {},
   "source": [
    "## Simulate survival data "
   ]
  },
  {
   "cell_type": "markdown",
   "metadata": {},
   "source": [
    "In order to demonstrate the use of this model, we will first simulate some survival data using `survivalstan.sim.sim_data_exp_correlated`. As the name implies, this function simulates data assuming a constant hazard throughout the follow-up time period, which is consistent with the Exponential survival function.\n",
    "\n",
    "This function includes two simulated covariates by default (`age` and `sex`). We also simulate a situation where hazard is a function of the simulated value for `sex`. \n",
    "\n",
    "We also center the `age` variable since this will make it easier to interpret estimates of the baseline hazard.\n"
   ]
  },
  {
   "cell_type": "code",
   "execution_count": 2,
   "metadata": {},
   "outputs": [
    {
     "name": "stderr",
     "output_type": "stream",
     "text": [
      "INFO:stancache.stancache:sim_data_exp_correlated: cache_filename set to sim_data_exp_correlated.cached.N_100.censor_time_20.rate_coefs_54462717316.rate_form_1 + sex.pkl\n",
      "INFO:stancache.stancache:sim_data_exp_correlated: Loading result from cache\n"
     ]
    }
   ],
   "source": [
    "d = stancache.cached(\n",
    "    survivalstan.sim.sim_data_exp_correlated,\n",
    "    N=100,\n",
    "    censor_time=20,\n",
    "    rate_form='1 + sex',\n",
    "    rate_coefs=[-3, 0.5],\n",
    ")\n",
    "d['age_centered'] = d['age'] - d['age'].mean()"
   ]
  },
  {
   "cell_type": "markdown",
   "metadata": {},
   "source": [
    "*Aside: In order to make this a more reproducible example, this code is using a file-caching function `stancache.cached` to wrap a function call to `survivalstan.sim.sim_data_exp_correlated`. *"
   ]
  },
  {
   "cell_type": "markdown",
   "metadata": {},
   "source": [
    "## Explore simulated data"
   ]
  },
  {
   "cell_type": "markdown",
   "metadata": {},
   "source": [
    "Here is what these data look like - this is `per-subject` or `time-to-event` form:"
   ]
  },
  {
   "cell_type": "code",
   "execution_count": 3,
   "metadata": {},
   "outputs": [
    {
     "data": {
      "text/html": [
       "<div>\n",
       "<style scoped>\n",
       "    .dataframe tbody tr th:only-of-type {\n",
       "        vertical-align: middle;\n",
       "    }\n",
       "\n",
       "    .dataframe tbody tr th {\n",
       "        vertical-align: top;\n",
       "    }\n",
       "\n",
       "    .dataframe thead th {\n",
       "        text-align: right;\n",
       "    }\n",
       "</style>\n",
       "<table border=\"1\" class=\"dataframe\">\n",
       "  <thead>\n",
       "    <tr style=\"text-align: right;\">\n",
       "      <th></th>\n",
       "      <th>sex</th>\n",
       "      <th>age</th>\n",
       "      <th>rate</th>\n",
       "      <th>true_t</th>\n",
       "      <th>t</th>\n",
       "      <th>event</th>\n",
       "      <th>index</th>\n",
       "      <th>age_centered</th>\n",
       "    </tr>\n",
       "  </thead>\n",
       "  <tbody>\n",
       "    <tr>\n",
       "      <th>0</th>\n",
       "      <td>male</td>\n",
       "      <td>54</td>\n",
       "      <td>0.082085</td>\n",
       "      <td>1.013855</td>\n",
       "      <td>1.013855</td>\n",
       "      <td>True</td>\n",
       "      <td>0</td>\n",
       "      <td>-1.12</td>\n",
       "    </tr>\n",
       "    <tr>\n",
       "      <th>1</th>\n",
       "      <td>male</td>\n",
       "      <td>39</td>\n",
       "      <td>0.082085</td>\n",
       "      <td>4.890597</td>\n",
       "      <td>4.890597</td>\n",
       "      <td>True</td>\n",
       "      <td>1</td>\n",
       "      <td>-16.12</td>\n",
       "    </tr>\n",
       "    <tr>\n",
       "      <th>2</th>\n",
       "      <td>female</td>\n",
       "      <td>45</td>\n",
       "      <td>0.049787</td>\n",
       "      <td>4.093404</td>\n",
       "      <td>4.093404</td>\n",
       "      <td>True</td>\n",
       "      <td>2</td>\n",
       "      <td>-10.12</td>\n",
       "    </tr>\n",
       "    <tr>\n",
       "      <th>3</th>\n",
       "      <td>female</td>\n",
       "      <td>43</td>\n",
       "      <td>0.049787</td>\n",
       "      <td>7.036226</td>\n",
       "      <td>7.036226</td>\n",
       "      <td>True</td>\n",
       "      <td>3</td>\n",
       "      <td>-12.12</td>\n",
       "    </tr>\n",
       "    <tr>\n",
       "      <th>4</th>\n",
       "      <td>female</td>\n",
       "      <td>57</td>\n",
       "      <td>0.049787</td>\n",
       "      <td>5.712299</td>\n",
       "      <td>5.712299</td>\n",
       "      <td>True</td>\n",
       "      <td>4</td>\n",
       "      <td>1.88</td>\n",
       "    </tr>\n",
       "  </tbody>\n",
       "</table>\n",
       "</div>"
      ],
      "text/plain": [
       "      sex  age      rate    true_t         t  event  index  age_centered\n",
       "0    male   54  0.082085  1.013855  1.013855   True      0         -1.12\n",
       "1    male   39  0.082085  4.890597  4.890597   True      1        -16.12\n",
       "2  female   45  0.049787  4.093404  4.093404   True      2        -10.12\n",
       "3  female   43  0.049787  7.036226  7.036226   True      3        -12.12\n",
       "4  female   57  0.049787  5.712299  5.712299   True      4          1.88"
      ]
     },
     "execution_count": 3,
     "metadata": {},
     "output_type": "execute_result"
    }
   ],
   "source": [
    "d.head()"
   ]
  },
  {
   "cell_type": "markdown",
   "metadata": {},
   "source": [
    "*It's not that obvious from the field names, but in this example \"subjects\" are indexed by the field `index`.*"
   ]
  },
  {
   "cell_type": "markdown",
   "metadata": {},
   "source": [
    "We can plot these data using `lifelines`, or the rudimentary plotting functions provided by `survivalstan`."
   ]
  },
  {
   "cell_type": "code",
   "execution_count": 4,
   "metadata": {},
   "outputs": [
    {
     "data": {
      "text/plain": [
       "<matplotlib.legend.Legend at 0x7f69382fa2e8>"
      ]
     },
     "execution_count": 4,
     "metadata": {},
     "output_type": "execute_result"
    },
    {
     "data": {
      "image/png": "[encoded data removed]",
      "text/plain": [
       "<Figure size 432x288 with 1 Axes>"
      ]
     },
     "metadata": {
      "needs_background": "light"
     },
     "output_type": "display_data"
    }
   ],
   "source": [
    "survivalstan.utils.plot_observed_survival(df=d[d['sex']=='female'], event_col='event', time_col='t', label='female')\n",
    "survivalstan.utils.plot_observed_survival(df=d[d['sex']=='male'], event_col='event', time_col='t', label='male')\n",
    "plt.legend()"
   ]
  },
  {
   "cell_type": "markdown",
   "metadata": {},
   "source": [
    "## model1: original spec"
   ]
  },
  {
   "cell_type": "code",
   "execution_count": 5,
   "metadata": {},
   "outputs": [],
   "source": [
    "model_code = '''\n",
    "functions {\n",
    "  // Defines the log survival\n",
    "  vector log_S (vector t, real shape, vector rate) {\n",
    "    vector[num_elements(t)] log_S;\n",
    "    for (i in 1:num_elements(t)) {\n",
    "      log_S[i] = gamma_lccdf(t[i]|shape,rate[i]); \n",
    "    }\n",
    "    return log_S;\n",
    "  }\n",
    "  \n",
    "  // Defines the log hazard\n",
    "  vector log_h (vector t, real shape, vector rate) {\n",
    "    vector[num_elements(t)] log_h;\n",
    "    vector[num_elements(t)] ls;\n",
    "    ls = log_S(t,shape,rate);\n",
    "    for (i in 1:num_elements(t)) {\n",
    "      log_h[i] = gamma_lpdf(t[i]|shape,rate[i]) - ls[i];\n",
    "    }\n",
    "    return log_h;\n",
    "  }\n",
    "  \n",
    "  // Defines the sampling distribution\n",
    "  real surv_gamma_lpdf (vector t, vector d, real shape, vector rate) {\n",
    "    vector[num_elements(t)] log_lik;\n",
    "    real prob;\n",
    "    log_lik = d .* log_h(t,shape,rate) + log_S(t,shape,rate);\n",
    "    prob = sum(log_lik);\n",
    "    return prob;\n",
    "  }\n",
    "}\n",
    "\n",
    "data {\n",
    "  int N;                            // number of observations\n",
    "  vector<lower=0>[N] y;             // observed times\n",
    "  vector<lower=0,upper=1>[N] event;     // censoring indicator (1=observed, 0=censored)\n",
    "  int M;                            // number of covariates\n",
    "  matrix[N, M] x;                    // matrix of covariates (with n rows and H columns)\n",
    "}\n",
    "\n",
    "parameters {\n",
    "  vector[M] beta;         // Coefficients in the linear predictor (including intercept)\n",
    "  real<lower=0> alpha;    // shape parameter\n",
    "}\n",
    "\n",
    "transformed parameters {\n",
    "  vector[N] linpred;\n",
    "  vector[N] mu;\n",
    "  linpred = x*beta;\n",
    "  for (i in 1:N) {\n",
    "    mu[i] = exp(linpred[i]);\n",
    "  }\n",
    "}\n",
    "\n",
    "model {\n",
    "  alpha ~ gamma(0.01,0.01);\n",
    "  beta ~ normal(0,5);\n",
    "  y ~ surv_gamma(event, alpha, mu);\n",
    "}\n",
    "'''"
   ]
  },
  {
   "cell_type": "markdown",
   "metadata": {},
   "source": [
    "Now, we are ready to fit our model using `survivalstan.fit_stan_survival_model`. \n",
    "\n",
    "We pass a few parameters to the fit function, many of which are required. See ?survivalstan.fit_stan_survival_model for details. \n",
    "\n",
    "Similar to what we did above, we are asking `survivalstan` to cache this model fit object. See [stancache](http://github.com/jburos/stancache) for more details on how this works. Also, if you didn't want to use the cache, you could omit the parameter `FIT_FUN` and `survivalstan` would use the standard pystan functionality.\n"
   ]
  },
  {
   "cell_type": "code",
   "execution_count": 6,
   "metadata": {},
   "outputs": [
    {
     "name": "stderr",
     "output_type": "stream",
     "text": [
      "/home/jacki/projects/survivalstan/survivalstan/formulas.py:96: UserWarning: Pandas doesn't allow columns to be created via a new attribute name - see https://pandas.pydata.org/pandas-docs/stable/indexing.html#attribute-access\n",
      "  self.stan_data = stan_data\n",
      "/home/jacki/projects/survivalstan/survivalstan/formulas.py:97: UserWarning: Pandas doesn't allow columns to be created via a new attribute name - see https://pandas.pydata.org/pandas-docs/stable/indexing.html#attribute-access\n",
      "  self.meta_data = meta_data\n",
      "/home/jacki/projects/survivalstan/survivalstan/formulas.py:96: UserWarning: Pandas doesn't allow columns to be created via a new attribute name - see https://pandas.pydata.org/pandas-docs/stable/indexing.html#attribute-access\n",
      "  self.stan_data = stan_data\n",
      "/home/jacki/projects/survivalstan/survivalstan/formulas.py:97: UserWarning: Pandas doesn't allow columns to be created via a new attribute name - see https://pandas.pydata.org/pandas-docs/stable/indexing.html#attribute-access\n",
      "  self.meta_data = meta_data\n",
      "/home/jacki/projects/survivalstan/survivalstan/survivalstan.py:368: FutureWarning: Method .as_matrix will be removed in a future version. Use .values instead.\n",
      "  'x': self.x_df.as_matrix(),\n",
      "INFO:stancache.stancache:Step 1: Get compiled model code, possibly from cache\n",
      "INFO:stancache.stancache:StanModel: cache_filename set to anon_model.cython_0_29_2.model_code_14429915565770599621.pystan_2_18_1_0.stanmodel.pkl\n",
      "INFO:stancache.stancache:StanModel: Starting execution\n",
      "INFO:pystan:COMPILING THE C++ CODE FOR MODEL anon_model_f418131a20ef101bf99f9c02185578f1 NOW.\n",
      "INFO:stancache.stancache:StanModel: Execution completed (0:01:43.433295 elapsed)\n",
      "INFO:stancache.stancache:StanModel: Saving results to cache\n",
      "INFO:stancache.stancache:Step 2: Get posterior draws from model, possibly from cache\n",
      "INFO:stancache.stancache:sampling: cache_filename set to anon_model.cython_0_29_2.model_code_14429915565770599621.pystan_2_18_1_0.stanfit.chains_4.data_36753546383.iter_5000.seed_9001.pkl\n",
      "INFO:stancache.stancache:sampling: Starting execution\n",
      "INFO:stancache.stancache:sampling: Execution completed (0:01:33.270480 elapsed)\n",
      "INFO:stancache.stancache:sampling: Saving results to cache\n",
      "/srv/conda/lib/python3.6/site-packages/stancache/stancache.py:285: UserWarning: Pickling fit objects is an experimental feature!\n",
      "The relevant StanModel instance must be pickled along with this fit object.\n",
      "When unpickling the StanModel must be unpickled first.\n",
      "  pickle.dump(res, open(cache_filepath, 'wb'), pickle.HIGHEST_PROTOCOL)\n"
     ]
    }
   ],
   "source": [
    "testfit = survivalstan.fit_stan_survival_model(\n",
    "    model_cohort = 'model 1',\n",
    "    model_code = model_code,\n",
    "    df = d,\n",
    "    time_col = 't',\n",
    "    event_col = 'event',\n",
    "    formula = '~ age_centered + sex',\n",
    "    iter = 5000,\n",
    "    chains = 4,\n",
    "    seed = 9001,\n",
    "    FIT_FUN = stancache.cached_stan_fit,\n",
    "    drop_intercept = False,\n",
    "    )\n"
   ]
  },
  {
   "cell_type": "code",
   "execution_count": 7,
   "metadata": {},
   "outputs": [],
   "source": [
    "# 0:01:33.270480 elapsed"
   ]
  },
  {
   "cell_type": "code",
   "execution_count": 8,
   "metadata": {},
   "outputs": [
    {
     "name": "stdout",
     "output_type": "stream",
     "text": [
      "               mean   se_mean        sd        2.5%         50%       97.5%      Rhat\n",
      "lp__    -272.845825  0.022499  1.435829 -276.502302 -272.511241 -271.047870  1.000226\n",
      "alpha      1.023739  0.002147  0.152227    0.755217    1.014877    1.349258  1.001638\n",
      "beta[1]   -3.029740  0.004090  0.274891   -3.614153   -3.011143   -2.532143  1.001077\n",
      "beta[2]    0.618876  0.003042  0.239763    0.156590    0.614498    1.108694  1.000019\n",
      "beta[3]   -0.003055  0.000162  0.013851   -0.030628   -0.002910    0.023814  1.000772\n"
     ]
    }
   ],
   "source": [
    "survivalstan.utils.print_stan_summary([testfit], pars=['lp__', 'alpha', 'beta'])"
   ]
  },
  {
   "cell_type": "markdown",
   "metadata": {},
   "source": [
    "## model2: alternate version of surv_gamma_lpdf"
   ]
  },
  {
   "cell_type": "code",
   "execution_count": 9,
   "metadata": {},
   "outputs": [],
   "source": [
    "model_code2 = '''\n",
    "functions {\n",
    "  // Defines the log survival\n",
    "  real surv_gamma_lpdf (vector t, vector d, real shape, vector rate) {\n",
    "    vector[num_elements(t)] log_lik;\n",
    "    real prob;\n",
    "    for (i in 1:num_elements(t)) {\n",
    "      log_lik[i] = d[i] * (gamma_lpdf(t[i]|shape,rate[i]) - gamma_lccdf(t[i]|shape,rate[i]))\n",
    "                      + gamma_lccdf(t[i]|shape,rate[i]);\n",
    "    }\n",
    "    prob = sum(log_lik);\n",
    "    return prob;\n",
    "  }\n",
    "}\n",
    "data {\n",
    "  int N;                            // number of observations\n",
    "  vector<lower=0>[N] y;             // observed times\n",
    "  vector<lower=0,upper=1>[N] event;     // censoring indicator (1=observed, 0=censored)\n",
    "  int M;                            // number of covariates\n",
    "  matrix[N, M] x;                    // matrix of covariates (with n rows and H columns)\n",
    "}\n",
    "parameters {\n",
    "  vector[M] beta;         // Coefficients in the linear predictor (including intercept)\n",
    "  real<lower=0> alpha;    // shape parameter\n",
    "}\n",
    "transformed parameters {\n",
    "  vector<lower=0>[N] mu;\n",
    "  {\n",
    "      vector[N] linpred;\n",
    "      linpred = x*beta;\n",
    "      mu = exp(linpred);\n",
    "  }\n",
    "}\n",
    "\n",
    "model {\n",
    "  alpha ~ gamma(0.01,0.01);\n",
    "  beta ~ normal(0,5);\n",
    "  y ~ surv_gamma(event, alpha, mu);\n",
    "}\n",
    "'''"
   ]
  },
  {
   "cell_type": "code",
   "execution_count": 10,
   "metadata": {},
   "outputs": [
    {
     "name": "stderr",
     "output_type": "stream",
     "text": [
      "/home/jacki/projects/survivalstan/survivalstan/formulas.py:96: UserWarning: Pandas doesn't allow columns to be created via a new attribute name - see https://pandas.pydata.org/pandas-docs/stable/indexing.html#attribute-access\n",
      "  self.stan_data = stan_data\n",
      "/home/jacki/projects/survivalstan/survivalstan/formulas.py:97: UserWarning: Pandas doesn't allow columns to be created via a new attribute name - see https://pandas.pydata.org/pandas-docs/stable/indexing.html#attribute-access\n",
      "  self.meta_data = meta_data\n",
      "/home/jacki/projects/survivalstan/survivalstan/formulas.py:96: UserWarning: Pandas doesn't allow columns to be created via a new attribute name - see https://pandas.pydata.org/pandas-docs/stable/indexing.html#attribute-access\n",
      "  self.stan_data = stan_data\n",
      "/home/jacki/projects/survivalstan/survivalstan/formulas.py:97: UserWarning: Pandas doesn't allow columns to be created via a new attribute name - see https://pandas.pydata.org/pandas-docs/stable/indexing.html#attribute-access\n",
      "  self.meta_data = meta_data\n",
      "/home/jacki/projects/survivalstan/survivalstan/survivalstan.py:368: FutureWarning: Method .as_matrix will be removed in a future version. Use .values instead.\n",
      "  'x': self.x_df.as_matrix(),\n",
      "INFO:stancache.stancache:Step 1: Get compiled model code, possibly from cache\n",
      "INFO:stancache.stancache:StanModel: cache_filename set to anon_model.cython_0_29_2.model_code_9177012762674257483.pystan_2_18_1_0.stanmodel.pkl\n",
      "INFO:stancache.stancache:StanModel: Starting execution\n",
      "INFO:pystan:COMPILING THE C++ CODE FOR MODEL anon_model_8758b4bc02931efdf69b3e349afdba01 NOW.\n",
      "INFO:stancache.stancache:StanModel: Execution completed (0:01:29.291961 elapsed)\n",
      "INFO:stancache.stancache:StanModel: Saving results to cache\n",
      "INFO:stancache.stancache:Step 2: Get posterior draws from model, possibly from cache\n",
      "INFO:stancache.stancache:sampling: cache_filename set to anon_model.cython_0_29_2.model_code_9177012762674257483.pystan_2_18_1_0.stanfit.chains_4.data_36753546383.iter_5000.seed_9001.pkl\n",
      "INFO:stancache.stancache:sampling: Starting execution\n",
      "INFO:stancache.stancache:sampling: Execution completed (0:01:20.742172 elapsed)\n",
      "INFO:stancache.stancache:sampling: Saving results to cache\n",
      "/srv/conda/lib/python3.6/site-packages/stancache/stancache.py:285: UserWarning: Pickling fit objects is an experimental feature!\n",
      "The relevant StanModel instance must be pickled along with this fit object.\n",
      "When unpickling the StanModel must be unpickled first.\n",
      "  pickle.dump(res, open(cache_filepath, 'wb'), pickle.HIGHEST_PROTOCOL)\n"
     ]
    }
   ],
   "source": [
    "testfit2 = survivalstan.fit_stan_survival_model(\n",
    "    model_cohort = 'model 2',\n",
    "    model_code = model_code2,\n",
    "    df = d,\n",
    "    time_col = 't',\n",
    "    event_col = 'event',\n",
    "    formula = '~ age_centered + sex',\n",
    "    iter = 5000,\n",
    "    chains = 4,\n",
    "    seed = 9001,\n",
    "    FIT_FUN = stancache.cached_stan_fit,\n",
    "    drop_intercept = False,\n",
    "    )\n"
   ]
  },
  {
   "cell_type": "code",
   "execution_count": 13,
   "metadata": {
    "collapsed": true,
    "jupyter": {
     "outputs_hidden": true
    }
   },
   "outputs": [],
   "source": [
    "# 0:01:20.742172 elapsed"
   ]
  },
  {
   "cell_type": "code",
   "execution_count": 12,
   "metadata": {},
   "outputs": [
    {
     "name": "stdout",
     "output_type": "stream",
     "text": [
      "               mean   se_mean        sd        2.5%         50%       97.5%      Rhat\n",
      "lp__    -272.859001  0.023962  1.470993 -276.580657 -272.522315 -271.028212  1.000202\n",
      "alpha      1.022005  0.002037  0.150233    0.749135    1.014273    1.341307  1.000132\n",
      "beta[1]   -3.032481  0.003923  0.273614   -3.612430   -3.020702   -2.543998  1.000088\n",
      "beta[2]    0.614401  0.003031  0.241061    0.152624    0.610390    1.103668  0.999922\n",
      "beta[3]   -0.003198  0.000161  0.013956   -0.031153   -0.003048    0.023837  0.999972\n"
     ]
    }
   ],
   "source": [
    "survivalstan.utils.print_stan_summary([testfit2], pars=['lp__', 'alpha', 'beta'])"
   ]
  },
  {
   "cell_type": "markdown",
   "metadata": {},
   "source": [
    "## model3: use `log_mix` inside surv_gamma_lpdf"
   ]
  },
  {
   "cell_type": "code",
   "execution_count": 13,
   "metadata": {},
   "outputs": [],
   "source": [
    "model_code3 = '''\n",
    "functions {\n",
    "  // Defines the log survival\n",
    "  real surv_gamma_lpdf (vector t, vector d, real shape, vector rate) {\n",
    "    vector[num_elements(t)] log_lik;\n",
    "    real prob;\n",
    "    for (i in 1:num_elements(t)) {\n",
    "      log_lik[i] = log_mix(d[i], gamma_lpdf(t[i]|shape,rate[i]), gamma_lccdf(t[i]|shape,rate[i]));\n",
    "    }\n",
    "    prob = sum(log_lik);\n",
    "    return prob;\n",
    "  }\n",
    "}\n",
    "data {\n",
    "  int N;                            // number of observations\n",
    "  vector<lower=0>[N] y;             // observed times\n",
    "  vector<lower=0,upper=1>[N] event; // censoring indicator (1=observed, 0=censored)\n",
    "  int M;                            // number of covariates\n",
    "  matrix[N, M] x;                   // matrix of covariates (with n rows and H columns)\n",
    "}\n",
    "parameters {\n",
    "  vector[M] beta;         // Coefficients in the linear predictor (including intercept)\n",
    "  real<lower=0> alpha;    // shape parameter\n",
    "}\n",
    "transformed parameters {\n",
    "  vector[N] linpred;\n",
    "  vector[N] mu;\n",
    "  linpred = x*beta;\n",
    "  mu = exp(linpred);\n",
    "}\n",
    "\n",
    "model {\n",
    "  alpha ~ gamma(0.01,0.01);\n",
    "  beta ~ normal(0,5);\n",
    "  y ~ surv_gamma(event, alpha, mu);\n",
    "}\n",
    "'''"
   ]
  },
  {
   "cell_type": "code",
   "execution_count": 14,
   "metadata": {},
   "outputs": [
    {
     "name": "stderr",
     "output_type": "stream",
     "text": [
      "/home/jacki/projects/survivalstan/survivalstan/formulas.py:96: UserWarning: Pandas doesn't allow columns to be created via a new attribute name - see https://pandas.pydata.org/pandas-docs/stable/indexing.html#attribute-access\n",
      "  self.stan_data = stan_data\n",
      "/home/jacki/projects/survivalstan/survivalstan/formulas.py:97: UserWarning: Pandas doesn't allow columns to be created via a new attribute name - see https://pandas.pydata.org/pandas-docs/stable/indexing.html#attribute-access\n",
      "  self.meta_data = meta_data\n",
      "/home/jacki/projects/survivalstan/survivalstan/formulas.py:96: UserWarning: Pandas doesn't allow columns to be created via a new attribute name - see https://pandas.pydata.org/pandas-docs/stable/indexing.html#attribute-access\n",
      "  self.stan_data = stan_data\n",
      "/home/jacki/projects/survivalstan/survivalstan/formulas.py:97: UserWarning: Pandas doesn't allow columns to be created via a new attribute name - see https://pandas.pydata.org/pandas-docs/stable/indexing.html#attribute-access\n",
      "  self.meta_data = meta_data\n",
      "INFO:stancache.stancache:Step 1: Get compiled model code, possibly from cache\n",
      "INFO:stancache.stancache:StanModel: cache_filename set to anon_model.cython_0_29_2.model_code_1293841621968646714.pystan_2_18_1_0.stanmodel.pkl\n",
      "INFO:stancache.stancache:StanModel: Starting execution\n",
      "INFO:pystan:COMPILING THE C++ CODE FOR MODEL anon_model_050903aecc782294461f27307e7596e0 NOW.\n",
      "INFO:stancache.stancache:StanModel: Execution completed (0:01:42.204878 elapsed)\n",
      "INFO:stancache.stancache:StanModel: Saving results to cache\n",
      "INFO:stancache.stancache:Step 2: Get posterior draws from model, possibly from cache\n",
      "INFO:stancache.stancache:sampling: cache_filename set to anon_model.cython_0_29_2.model_code_1293841621968646714.pystan_2_18_1_0.stanfit.chains_4.data_36753546383.iter_5000.seed_9001.pkl\n",
      "INFO:stancache.stancache:sampling: Starting execution\n",
      "INFO:stancache.stancache:sampling: Execution completed (0:00:42.036498 elapsed)\n",
      "INFO:stancache.stancache:sampling: Saving results to cache\n",
      "/srv/conda/lib/python3.6/site-packages/stancache/stancache.py:285: UserWarning: Pickling fit objects is an experimental feature!\n",
      "The relevant StanModel instance must be pickled along with this fit object.\n",
      "When unpickling the StanModel must be unpickled first.\n",
      "  pickle.dump(res, open(cache_filepath, 'wb'), pickle.HIGHEST_PROTOCOL)\n"
     ]
    }
   ],
   "source": [
    "testfit3 = survivalstan.fit_stan_survival_model(\n",
    "    model_cohort = 'model 3',\n",
    "    model_code = model_code3,\n",
    "    df = d,\n",
    "    time_col = 't',\n",
    "    event_col = 'event',\n",
    "    formula = '~ age_centered + sex',\n",
    "    iter = 5000,\n",
    "    chains = 4,\n",
    "    seed = 9001,\n",
    "    FIT_FUN = stancache.cached_stan_fit,\n",
    "    drop_intercept = False,\n",
    "    )\n"
   ]
  },
  {
   "cell_type": "code",
   "execution_count": 15,
   "metadata": {},
   "outputs": [],
   "source": [
    "# 0:00:42.036498 elapsed"
   ]
  },
  {
   "cell_type": "code",
   "execution_count": 16,
   "metadata": {},
   "outputs": [
    {
     "name": "stdout",
     "output_type": "stream",
     "text": [
      "               mean   se_mean        sd        2.5%         50%       97.5%      Rhat\n",
      "lp__    -272.836212  0.023769  1.461660 -276.474541 -272.493666 -271.040873  1.001796\n",
      "alpha      1.023676  0.001992  0.149010    0.746153    1.017081    1.331976  0.999766\n",
      "beta[1]   -3.030396  0.004034  0.267378   -3.606247   -3.013798   -2.553470  1.000366\n",
      "beta[2]    0.619250  0.003194  0.242402    0.156037    0.617779    1.106182  1.000445\n",
      "beta[3]   -0.003286  0.000155  0.013740   -0.030794   -0.003000    0.023025  1.000123\n"
     ]
    }
   ],
   "source": [
    "survivalstan.utils.print_stan_summary([testfit3], pars=['lp__', 'alpha', 'beta'])"
   ]
  },
  {
   "cell_type": "markdown",
   "metadata": {},
   "source": [
    "## model4: vectorize surv_gamma_lpdf"
   ]
  },
  {
   "cell_type": "code",
   "execution_count": 17,
   "metadata": {},
   "outputs": [],
   "source": [
    "model_code4 = '''\n",
    "functions {\n",
    "    int count_value(vector a, real val) {\n",
    "        int s;\n",
    "        s = 0;\n",
    "        for (i in 1:num_elements(a)) \n",
    "            if (a[i] == val) \n",
    "                s = s + 1;\n",
    "        return s;\n",
    "    }\n",
    "\n",
    "  // Defines the log survival\n",
    "  real surv_gamma_lpdf (vector t, vector d, real shape, vector rate, int num_cens, int num_obs) {\n",
    "    vector[2] log_lik;\n",
    "    int idx_obs[num_obs];\n",
    "    int idx_cens[num_cens];\n",
    "    real prob;\n",
    "    int i_cens;\n",
    "    int i_obs;\n",
    "    i_cens = 1;\n",
    "    i_obs = 1;\n",
    "    for (i in 1:num_elements(t)) {\n",
    "        if (d[i] == 1) {\n",
    "            idx_obs[i_obs] = i;\n",
    "            i_obs = i_obs+1;\n",
    "        }\n",
    "        else {\n",
    "            idx_cens[i_cens] = i;\n",
    "            i_cens = i_cens+1;\n",
    "        }\n",
    "    }\n",
    "    print(idx_obs);\n",
    "    log_lik[1] = gamma_lpdf(t[idx_obs] | shape, rate[idx_obs]);\n",
    "    log_lik[2] = gamma_lccdf(t[idx_cens] | shape, rate[idx_cens]);\n",
    "    prob = sum(log_lik);\n",
    "    return prob;\n",
    "  }\n",
    "}\n",
    "data {\n",
    "  int N;                            // number of observations\n",
    "  vector<lower=0>[N] y;             // observed times\n",
    "  vector<lower=0,upper=1>[N] event; // censoring indicator (1=observed, 0=censored)\n",
    "  int M;                            // number of covariates\n",
    "  matrix[N, M] x;                   // matrix of covariates (with n rows and H columns)\n",
    "}\n",
    "transformed data {\n",
    "  int num_cens;\n",
    "  int num_obs;\n",
    "  num_obs = count_value(event, 1);\n",
    "  num_cens = N - num_obs;\n",
    "}\n",
    "parameters {\n",
    "  vector[M] beta;         // Coefficients in the linear predictor (including intercept)\n",
    "  real<lower=0> alpha;    // shape parameter\n",
    "}\n",
    "transformed parameters {\n",
    "  vector[N] linpred;\n",
    "  vector[N] mu;\n",
    "  linpred = x*beta;\n",
    "  mu = exp(linpred);\n",
    "}\n",
    "model {\n",
    "  alpha ~ gamma(0.01,0.01);\n",
    "  beta ~ normal(0,5);\n",
    "  y ~ surv_gamma(event, alpha, mu, num_cens, num_obs);\n",
    "}\n",
    "'''"
   ]
  },
  {
   "cell_type": "code",
   "execution_count": 18,
   "metadata": {},
   "outputs": [
    {
     "name": "stderr",
     "output_type": "stream",
     "text": [
      "/home/jacki/projects/survivalstan/survivalstan/formulas.py:96: UserWarning: Pandas doesn't allow columns to be created via a new attribute name - see https://pandas.pydata.org/pandas-docs/stable/indexing.html#attribute-access\n",
      "  self.stan_data = stan_data\n",
      "/home/jacki/projects/survivalstan/survivalstan/formulas.py:97: UserWarning: Pandas doesn't allow columns to be created via a new attribute name - see https://pandas.pydata.org/pandas-docs/stable/indexing.html#attribute-access\n",
      "  self.meta_data = meta_data\n",
      "/home/jacki/projects/survivalstan/survivalstan/formulas.py:96: UserWarning: Pandas doesn't allow columns to be created via a new attribute name - see https://pandas.pydata.org/pandas-docs/stable/indexing.html#attribute-access\n",
      "  self.stan_data = stan_data\n",
      "/home/jacki/projects/survivalstan/survivalstan/formulas.py:97: UserWarning: Pandas doesn't allow columns to be created via a new attribute name - see https://pandas.pydata.org/pandas-docs/stable/indexing.html#attribute-access\n",
      "  self.meta_data = meta_data\n",
      "INFO:stancache.stancache:Step 1: Get compiled model code, possibly from cache\n",
      "INFO:stancache.stancache:StanModel: cache_filename set to anon_model.cython_0_29_2.model_code_16881928540873162731.pystan_2_18_1_0.stanmodel.pkl\n",
      "INFO:stancache.stancache:StanModel: Starting execution\n",
      "INFO:pystan:COMPILING THE C++ CODE FOR MODEL anon_model_b18a6495e568fcff90662e16a3d2aa85 NOW.\n",
      "INFO:stancache.stancache:StanModel: Execution completed (0:01:34.346981 elapsed)\n",
      "INFO:stancache.stancache:StanModel: Saving results to cache\n",
      "INFO:stancache.stancache:Step 2: Get posterior draws from model, possibly from cache\n",
      "INFO:stancache.stancache:sampling: cache_filename set to anon_model.cython_0_29_2.model_code_16881928540873162731.pystan_2_18_1_0.stanfit.chains_4.data_36753546383.iter_5000.seed_9001.pkl\n",
      "INFO:stancache.stancache:sampling: Starting execution\n",
      "INFO:stancache.stancache:sampling: Execution completed (0:00:16.703755 elapsed)\n",
      "INFO:stancache.stancache:sampling: Saving results to cache\n",
      "/srv/conda/lib/python3.6/site-packages/stancache/stancache.py:285: UserWarning: Pickling fit objects is an experimental feature!\n",
      "The relevant StanModel instance must be pickled along with this fit object.\n",
      "When unpickling the StanModel must be unpickled first.\n",
      "  pickle.dump(res, open(cache_filepath, 'wb'), pickle.HIGHEST_PROTOCOL)\n"
     ]
    }
   ],
   "source": [
    "testfit4 = survivalstan.fit_stan_survival_model(\n",
    "    model_cohort = 'model 4',\n",
    "    model_code = model_code4,\n",
    "    df = d,\n",
    "    time_col = 't',\n",
    "    event_col = 'event',\n",
    "    formula = '~ age_centered + sex',\n",
    "    iter = 5000,\n",
    "    chains = 4,\n",
    "    seed = 9001,\n",
    "    FIT_FUN = stancache.cached_stan_fit,\n",
    "    drop_intercept = False,\n",
    "    )\n"
   ]
  },
  {
   "cell_type": "code",
   "execution_count": 19,
   "metadata": {},
   "outputs": [],
   "source": [
    "# 0:00:16.703755 elapsed"
   ]
  },
  {
   "cell_type": "code",
   "execution_count": 20,
   "metadata": {},
   "outputs": [
    {
     "name": "stdout",
     "output_type": "stream",
     "text": [
      "               mean   se_mean        sd        2.5%         50%       97.5%      Rhat\n",
      "lp__    -272.823550  0.022981  1.461548 -276.488239 -272.492426 -271.021688  1.000197\n",
      "alpha      1.023161  0.002054  0.150942    0.749636    1.011858    1.346196  1.000033\n",
      "beta[1]   -3.030795  0.003943  0.275100   -3.610841   -3.013843   -2.531514  0.999949\n",
      "beta[2]    0.615333  0.002998  0.240180    0.152485    0.613556    1.096432  0.999838\n",
      "beta[3]   -0.003085  0.000159  0.013548   -0.030261   -0.002951    0.023048  1.000245\n"
     ]
    }
   ],
   "source": [
    "survivalstan.utils.print_stan_summary([testfit4], pars=['lp__', 'alpha', 'beta'])"
   ]
  },
  {
   "cell_type": "markdown",
   "metadata": {},
   "source": [
    "## compare coefficient estimates for each model spec"
   ]
  },
  {
   "cell_type": "code",
   "execution_count": 21,
   "metadata": {},
   "outputs": [
    {
     "data": {
      "image/png": "[encoded data removed]",
      "text/plain": [
       "<Figure size 432x288 with 1 Axes>"
      ]
     },
     "metadata": {
      "needs_background": "light"
     },
     "output_type": "display_data"
    }
   ],
   "source": [
    "survivalstan.utils.plot_coefs([testfit, testfit2, testfit3, testfit4])"
   ]
  },
  {
   "cell_type": "code",
   "execution_count": null,
   "metadata": {
    "collapsed": true,
    "jupyter": {
     "outputs_hidden": true
    }
   },
   "outputs": [],
   "source": []
  },
  {
   "cell_type": "code",
   "execution_count": null,
   "metadata": {},
   "outputs": [],
   "source": []
  }
 ],
 "metadata": {
  "anaconda-cloud": {},
  "kernelspec": {
   "display_name": "Python 3",
   "language": "python",
   "name": "python3"
  },
  "language_info": {
   "codemirror_mode": {
    "name": "ipython",
    "version": 3
   },
   "file_extension": ".py",
   "mimetype": "text/x-python",
   "name": "python",
   "nbconvert_exporter": "python",
   "pygments_lexer": "ipython3",
   "version": "3.6.7"
  }
 },
 "nbformat": 4,
 "nbformat_minor": 2
}
