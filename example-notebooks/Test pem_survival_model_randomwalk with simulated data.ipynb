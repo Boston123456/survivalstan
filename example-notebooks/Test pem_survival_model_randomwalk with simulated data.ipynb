{
 "cells": [
  {
   "cell_type": "code",
   "execution_count": 1,
   "metadata": {
    "collapsed": false
   },
   "outputs": [
    {
     "name": "stderr",
     "output_type": "stream",
     "text": [
      "INFO:stancache.seed:Setting seed to 1245502385\n"
     ]
    }
   ],
   "source": [
    "%load_ext autoreload\n",
    "%autoreload 2\n",
    "%matplotlib inline\n",
    "import random\n",
    "random.seed(1100038344)\n",
    "import survivalstan\n",
    "import numpy as np\n",
    "import pandas as pd\n",
    "from stancache import stancache\n",
    "from matplotlib import pyplot as plt"
   ]
  },
  {
   "cell_type": "code",
   "execution_count": 2,
   "metadata": {
    "collapsed": true
   },
   "outputs": [],
   "source": [
    "model_code = survivalstan.models.pem_survival_model_randomwalk"
   ]
  },
  {
   "cell_type": "code",
   "execution_count": 3,
   "metadata": {
    "collapsed": false
   },
   "outputs": [
    {
     "name": "stdout",
     "output_type": "stream",
     "text": [
      "/*  Variable naming:\n",
      " // dimensions\n",
      " N          = total number of observations (length of data)\n",
      " S          = number of sample ids\n",
      " T          = max timepoint (number of timepoint ids)\n",
      " M          = number of covariates\n",
      " \n",
      " // main data matrix (per observed timepoint*record)\n",
      " s          = sample id for each obs\n",
      " t          = timepoint id for each obs\n",
      " event      = integer indicating if there was an event at time t for sample s\n",
      " x          = matrix of real-valued covariates at time t for sample n [N, X]\n",
      " \n",
      " // timepoint-specific data (per timepoint, ordered by timepoint id)\n",
      " t_obs      = observed time since origin for each timepoint id (end of period)\n",
      " t_dur      = duration of each timepoint period (first diff of t_obs)\n",
      " \n",
      "*/\n",
      "// Jacqueline Buros Novik <jackinovik@gmail.com>\n",
      "\n",
      "\n",
      "data {\n",
      "  // dimensions\n",
      "  int<lower=1> N;\n",
      "  int<lower=1> S;\n",
      "  int<lower=1> T;\n",
      "  int<lower=0> M;\n",
      "  \n",
      "  // data matrix\n",
      "  int<lower=1, upper=N> s[N];     // sample id\n",
      "  int<lower=1, upper=T> t[N];     // timepoint id\n",
      "  int<lower=0, upper=1> event[N]; // 1: event, 0:censor\n",
      "  matrix[N, M] x;                 // explanatory vars\n",
      "  \n",
      "  // timepoint data\n",
      "  vector<lower=0>[T] t_obs;\n",
      "  vector<lower=0>[T] t_dur;\n",
      "}\n",
      "transformed data {\n",
      "  vector[T] log_t_dur;  // log-duration for each timepoint\n",
      "  int n_trans[S, T];  \n",
      "  \n",
      "  log_t_dur = log(t_obs);\n",
      "  \n",
      "  // n_trans used to map each sample*timepoint to n (used in gen quantities)\n",
      "  // map each patient/timepoint combination to n values\n",
      "  for (n in 1:N) {\n",
      "      n_trans[s[n], t[n]] = n;\n",
      "  }\n",
      "\n",
      "  // fill in missing values with n for max t for that patient\n",
      "  // ie assume \"last observed\" state applies forward (may be problematic for TVC)\n",
      "  // this allows us to predict failure times >= observed survival times\n",
      "  for (samp in 1:S) {\n",
      "      int last_value;\n",
      "      last_value = 0;\n",
      "      for (tp in 1:T) {\n",
      "          // manual says ints are initialized to neg values\n",
      "          // so <=0 is a shorthand for \"unassigned\"\n",
      "          if (n_trans[samp, tp] <= 0 && last_value != 0) {\n",
      "              n_trans[samp, tp] = last_value;\n",
      "          } else {\n",
      "              last_value = n_trans[samp, tp];\n",
      "          }\n",
      "      }\n",
      "  }\n",
      "}\n",
      "parameters {\n",
      "  vector[T] log_baseline_raw; // unstructured baseline hazard for each timepoint t\n",
      "  vector[M] beta;                      // beta for each covariate\n",
      "  real<lower=0> baseline_sigma;\n",
      "  real log_baseline_mu;\n",
      "}\n",
      "transformed parameters {\n",
      "  vector[N] log_hazard;\n",
      "  vector[T] log_baseline;\n",
      "  \n",
      "  log_baseline = log_baseline_raw + log_t_dur;\n",
      "  \n",
      "  for (n in 1:N) {\n",
      "    log_hazard[n] = log_baseline_mu + log_baseline[t[n]] + x[n,]*beta;\n",
      "  }\n",
      "}\n",
      "model {\n",
      "  beta ~ cauchy(0, 2);\n",
      "  event ~ poisson_log(log_hazard);\n",
      "  log_baseline_mu ~ normal(0, 1);\n",
      "  baseline_sigma ~ normal(0, 1);\n",
      "  log_baseline_raw[1] ~ normal(0, 1);\n",
      "  for (i in 2:T) {\n",
      "      log_baseline_raw[i] ~ normal(log_baseline_raw[i-1], baseline_sigma);\n",
      "  }\n",
      "}\n",
      "generated quantities {\n",
      "  real log_lik[N];\n",
      "  vector[T] baseline;\n",
      "  int y_hat_mat[S, T];     // ppcheck for each S*T combination\n",
      "  real y_hat_time[S];      // predicted failure time for each sample\n",
      "  int y_hat_event[S];      // predicted event (0:censor, 1:event)\n",
      "  \n",
      "  // compute raw baseline hazard, for summary/plotting\n",
      "  baseline = exp(log_baseline_raw);\n",
      "  \n",
      "  for (n in 1:N) {\n",
      "      log_lik[n] <- poisson_log_lpmf(event[n] | log_hazard[n]);\n",
      "  }\n",
      "  \n",
      "  // posterior predicted values\n",
      "  for (samp in 1:S) {\n",
      "      int sample_alive;\n",
      "      sample_alive = 1;\n",
      "      for (tp in 1:T) {\n",
      "        if (sample_alive == 1) {\n",
      "              int n;\n",
      "              int pred_y;\n",
      "              real log_haz;\n",
      "              \n",
      "              // determine predicted value of y\n",
      "              // (need to recalc so that carried-forward data use sim tp and not t[n])\n",
      "              n = n_trans[samp, tp];\n",
      "              log_haz = log_baseline_mu + log_baseline[tp] + x[n,]*beta;\n",
      "              if (log_haz < log(pow(2, 30))) \n",
      "                  pred_y = poisson_log_rng(log_haz);\n",
      "              else\n",
      "                  pred_y = 9; \n",
      "              \n",
      "              // mark this patient as ineligible for future tps\n",
      "              // note: deliberately make 9s ineligible \n",
      "              if (pred_y >= 1) {\n",
      "                  sample_alive = 0;\n",
      "                  y_hat_time[samp] = t_obs[tp];\n",
      "                  y_hat_event[samp] = 1;\n",
      "              }\n",
      "              \n",
      "              // save predicted value of y to matrix\n",
      "              y_hat_mat[samp, tp] = pred_y;\n",
      "          }\n",
      "          else if (sample_alive == 0) {\n",
      "              y_hat_mat[samp, tp] = 9;\n",
      "          } \n",
      "      } // end per-timepoint loop\n",
      "      \n",
      "      // if patient still alive at max\n",
      "      // \n",
      "      if (sample_alive == 1) {\n",
      "          y_hat_time[samp] = t_obs[T];\n",
      "          y_hat_event[samp] = 0;\n",
      "      }\n",
      "  } // end per-sample loop\n",
      "}\n",
      "\n"
     ]
    }
   ],
   "source": [
    "print(model_code)"
   ]
  },
  {
   "cell_type": "code",
   "execution_count": 4,
   "metadata": {
    "collapsed": false
   },
   "outputs": [
    {
     "name": "stderr",
     "output_type": "stream",
     "text": [
      "INFO:stancache.stancache:sim_data_exp_correlated: cache_filename set to sim_data_exp_correlated.cached.N_100.censor_time_20.rate_coefs_54462717316.rate_form_1 + sex.pkl\n",
      "INFO:stancache.stancache:sim_data_exp_correlated: Loading result from cache\n"
     ]
    },
    {
     "data": {
      "text/html": [
       "<div>\n",
       "<style scoped>\n",
       "    .dataframe tbody tr th:only-of-type {\n",
       "        vertical-align: middle;\n",
       "    }\n",
       "\n",
       "    .dataframe tbody tr th {\n",
       "        vertical-align: top;\n",
       "    }\n",
       "\n",
       "    .dataframe thead th {\n",
       "        text-align: right;\n",
       "    }\n",
       "</style>\n",
       "<table border=\"1\" class=\"dataframe\">\n",
       "  <thead>\n",
       "    <tr style=\"text-align: right;\">\n",
       "      <th></th>\n",
       "      <th>sex</th>\n",
       "      <th>age</th>\n",
       "      <th>rate</th>\n",
       "      <th>true_t</th>\n",
       "      <th>t</th>\n",
       "      <th>event</th>\n",
       "      <th>index</th>\n",
       "      <th>age_centered</th>\n",
       "    </tr>\n",
       "  </thead>\n",
       "  <tbody>\n",
       "    <tr>\n",
       "      <th>0</th>\n",
       "      <td>male</td>\n",
       "      <td>54</td>\n",
       "      <td>0.082085</td>\n",
       "      <td>1.013855</td>\n",
       "      <td>1.013855</td>\n",
       "      <td>True</td>\n",
       "      <td>0</td>\n",
       "      <td>-1.12</td>\n",
       "    </tr>\n",
       "    <tr>\n",
       "      <th>1</th>\n",
       "      <td>male</td>\n",
       "      <td>39</td>\n",
       "      <td>0.082085</td>\n",
       "      <td>4.890597</td>\n",
       "      <td>4.890597</td>\n",
       "      <td>True</td>\n",
       "      <td>1</td>\n",
       "      <td>-16.12</td>\n",
       "    </tr>\n",
       "    <tr>\n",
       "      <th>2</th>\n",
       "      <td>female</td>\n",
       "      <td>45</td>\n",
       "      <td>0.049787</td>\n",
       "      <td>4.093404</td>\n",
       "      <td>4.093404</td>\n",
       "      <td>True</td>\n",
       "      <td>2</td>\n",
       "      <td>-10.12</td>\n",
       "    </tr>\n",
       "    <tr>\n",
       "      <th>3</th>\n",
       "      <td>female</td>\n",
       "      <td>43</td>\n",
       "      <td>0.049787</td>\n",
       "      <td>7.036226</td>\n",
       "      <td>7.036226</td>\n",
       "      <td>True</td>\n",
       "      <td>3</td>\n",
       "      <td>-12.12</td>\n",
       "    </tr>\n",
       "    <tr>\n",
       "      <th>4</th>\n",
       "      <td>female</td>\n",
       "      <td>57</td>\n",
       "      <td>0.049787</td>\n",
       "      <td>5.712299</td>\n",
       "      <td>5.712299</td>\n",
       "      <td>True</td>\n",
       "      <td>4</td>\n",
       "      <td>1.88</td>\n",
       "    </tr>\n",
       "  </tbody>\n",
       "</table>\n",
       "</div>"
      ],
      "text/plain": [
       "      sex  age      rate    true_t         t  event  index  age_centered\n",
       "0    male   54  0.082085  1.013855  1.013855   True      0         -1.12\n",
       "1    male   39  0.082085  4.890597  4.890597   True      1        -16.12\n",
       "2  female   45  0.049787  4.093404  4.093404   True      2        -10.12\n",
       "3  female   43  0.049787  7.036226  7.036226   True      3        -12.12\n",
       "4  female   57  0.049787  5.712299  5.712299   True      4          1.88"
      ]
     },
     "execution_count": 4,
     "metadata": {},
     "output_type": "execute_result"
    }
   ],
   "source": [
    "d = stancache.cached(\n",
    "    survivalstan.sim.sim_data_exp_correlated,\n",
    "    N=100,\n",
    "    censor_time=20,\n",
    "    rate_form='1 + sex',\n",
    "    rate_coefs=[-3, 0.5],\n",
    ")\n",
    "d['age_centered'] = d['age'] - d['age'].mean()\n",
    "d.head()"
   ]
  },
  {
   "cell_type": "code",
   "execution_count": 5,
   "metadata": {
    "collapsed": false
   },
   "outputs": [
    {
     "data": {
      "text/plain": [
       "<matplotlib.legend.Legend at 0x7f88fbd72160>"
      ]
     },
     "execution_count": 5,
     "metadata": {},
     "output_type": "execute_result"
    },
    {
     "data": {
      "image/png": "[encoded data removed]",
      "text/plain": [
       "<Figure size 432x288 with 1 Axes>"
      ]
     },
     "metadata": {
      "needs_background": "light"
     },
     "output_type": "display_data"
    }
   ],
   "source": [
    "survivalstan.utils.plot_observed_survival(df=d[d['sex']=='female'], event_col='event', time_col='t', label='female')\n",
    "survivalstan.utils.plot_observed_survival(df=d[d['sex']=='male'], event_col='event', time_col='t', label='male')\n",
    "plt.legend()"
   ]
  },
  {
   "cell_type": "code",
   "execution_count": 6,
   "metadata": {
    "collapsed": false
   },
   "outputs": [
    {
     "name": "stderr",
     "output_type": "stream",
     "text": [
      "INFO:stancache.stancache:prep_data_long_surv: cache_filename set to prep_data_long_surv.cached.df_14209590808.event_col_event.time_col_t.pkl\n",
      "INFO:stancache.stancache:prep_data_long_surv: Loading result from cache\n"
     ]
    }
   ],
   "source": [
    "dlong = stancache.cached(\n",
    "    survivalstan.prep_data_long_surv,\n",
    "    df=d, event_col='event', time_col='t'\n",
    ")"
   ]
  },
  {
   "cell_type": "code",
   "execution_count": 7,
   "metadata": {
    "collapsed": false
   },
   "outputs": [
    {
     "data": {
      "text/html": [
       "<div>\n",
       "<style scoped>\n",
       "    .dataframe tbody tr th:only-of-type {\n",
       "        vertical-align: middle;\n",
       "    }\n",
       "\n",
       "    .dataframe tbody tr th {\n",
       "        vertical-align: top;\n",
       "    }\n",
       "\n",
       "    .dataframe thead th {\n",
       "        text-align: right;\n",
       "    }\n",
       "</style>\n",
       "<table border=\"1\" class=\"dataframe\">\n",
       "  <thead>\n",
       "    <tr style=\"text-align: right;\">\n",
       "      <th></th>\n",
       "      <th>sex</th>\n",
       "      <th>age</th>\n",
       "      <th>rate</th>\n",
       "      <th>true_t</th>\n",
       "      <th>t</th>\n",
       "      <th>event</th>\n",
       "      <th>index</th>\n",
       "      <th>age_centered</th>\n",
       "      <th>end_time</th>\n",
       "      <th>end_failure</th>\n",
       "    </tr>\n",
       "  </thead>\n",
       "  <tbody>\n",
       "    <tr>\n",
       "      <th>0</th>\n",
       "      <td>male</td>\n",
       "      <td>54</td>\n",
       "      <td>0.082085</td>\n",
       "      <td>1.013855</td>\n",
       "      <td>1.013855</td>\n",
       "      <td>True</td>\n",
       "      <td>0</td>\n",
       "      <td>-1.12</td>\n",
       "      <td>1.013855</td>\n",
       "      <td>True</td>\n",
       "    </tr>\n",
       "    <tr>\n",
       "      <th>58</th>\n",
       "      <td>male</td>\n",
       "      <td>54</td>\n",
       "      <td>0.082085</td>\n",
       "      <td>1.013855</td>\n",
       "      <td>1.013855</td>\n",
       "      <td>True</td>\n",
       "      <td>0</td>\n",
       "      <td>-1.12</td>\n",
       "      <td>0.808987</td>\n",
       "      <td>False</td>\n",
       "    </tr>\n",
       "    <tr>\n",
       "      <th>65</th>\n",
       "      <td>male</td>\n",
       "      <td>54</td>\n",
       "      <td>0.082085</td>\n",
       "      <td>1.013855</td>\n",
       "      <td>1.013855</td>\n",
       "      <td>True</td>\n",
       "      <td>0</td>\n",
       "      <td>-1.12</td>\n",
       "      <td>0.377535</td>\n",
       "      <td>False</td>\n",
       "    </tr>\n",
       "    <tr>\n",
       "      <th>72</th>\n",
       "      <td>male</td>\n",
       "      <td>54</td>\n",
       "      <td>0.082085</td>\n",
       "      <td>1.013855</td>\n",
       "      <td>1.013855</td>\n",
       "      <td>True</td>\n",
       "      <td>0</td>\n",
       "      <td>-1.12</td>\n",
       "      <td>0.791192</td>\n",
       "      <td>False</td>\n",
       "    </tr>\n",
       "    <tr>\n",
       "      <th>73</th>\n",
       "      <td>male</td>\n",
       "      <td>54</td>\n",
       "      <td>0.082085</td>\n",
       "      <td>1.013855</td>\n",
       "      <td>1.013855</td>\n",
       "      <td>True</td>\n",
       "      <td>0</td>\n",
       "      <td>-1.12</td>\n",
       "      <td>0.009787</td>\n",
       "      <td>False</td>\n",
       "    </tr>\n",
       "  </tbody>\n",
       "</table>\n",
       "</div>"
      ],
      "text/plain": [
       "     sex  age      rate    true_t         t  event  index  age_centered  \\\n",
       "0   male   54  0.082085  1.013855  1.013855   True      0         -1.12   \n",
       "58  male   54  0.082085  1.013855  1.013855   True      0         -1.12   \n",
       "65  male   54  0.082085  1.013855  1.013855   True      0         -1.12   \n",
       "72  male   54  0.082085  1.013855  1.013855   True      0         -1.12   \n",
       "73  male   54  0.082085  1.013855  1.013855   True      0         -1.12   \n",
       "\n",
       "    end_time end_failure  \n",
       "0   1.013855        True  \n",
       "58  0.808987       False  \n",
       "65  0.377535       False  \n",
       "72  0.791192       False  \n",
       "73  0.009787       False  "
      ]
     },
     "execution_count": 7,
     "metadata": {},
     "output_type": "execute_result"
    }
   ],
   "source": [
    "dlong.head()"
   ]
  },
  {
   "cell_type": "code",
   "execution_count": 8,
   "metadata": {
    "collapsed": false
   },
   "outputs": [
    {
     "name": "stderr",
     "output_type": "stream",
     "text": [
      "/home/jacki/projects/survivalstan/survivalstan/formulas.py:96: UserWarning: Pandas doesn't allow columns to be created via a new attribute name - see https://pandas.pydata.org/pandas-docs/stable/indexing.html#attribute-access\n",
      "  self.stan_data = stan_data\n",
      "/home/jacki/projects/survivalstan/survivalstan/formulas.py:97: UserWarning: Pandas doesn't allow columns to be created via a new attribute name - see https://pandas.pydata.org/pandas-docs/stable/indexing.html#attribute-access\n",
      "  self.meta_data = meta_data\n",
      "/home/jacki/projects/survivalstan/survivalstan/formulas.py:96: UserWarning: Pandas doesn't allow columns to be created via a new attribute name - see https://pandas.pydata.org/pandas-docs/stable/indexing.html#attribute-access\n",
      "  self.stan_data = stan_data\n",
      "/home/jacki/projects/survivalstan/survivalstan/formulas.py:97: UserWarning: Pandas doesn't allow columns to be created via a new attribute name - see https://pandas.pydata.org/pandas-docs/stable/indexing.html#attribute-access\n",
      "  self.meta_data = meta_data\n",
      "/home/jacki/projects/survivalstan/survivalstan/survivalstan.py:368: FutureWarning: Method .as_matrix will be removed in a future version. Use .values instead.\n",
      "  'x': self.x_df.as_matrix(),\n",
      "INFO:stancache.stancache:Step 1: Get compiled model code, possibly from cache\n",
      "INFO:stancache.stancache:StanModel: cache_filename set to anon_model.cython_0_29_2.model_code_17281568671805165521.pystan_2_18_1_0.stanmodel.pkl\n",
      "INFO:stancache.stancache:StanModel: Starting execution\n",
      "INFO:pystan:COMPILING THE C++ CODE FOR MODEL anon_model_249db4a4181526e159f2a1b68f29066d NOW.\n",
      "INFO:stancache.stancache:StanModel: Execution completed (0:01:33.881233 elapsed)\n",
      "INFO:stancache.stancache:StanModel: Saving results to cache\n",
      "INFO:stancache.stancache:Step 2: Get posterior draws from model, possibly from cache\n",
      "INFO:stancache.stancache:sampling: cache_filename set to anon_model.cython_0_29_2.model_code_17281568671805165521.pystan_2_18_1_0.stanfit.chains_4.data_75284643319.iter_5000.seed_9001.pkl\n",
      "INFO:stancache.stancache:sampling: Starting execution\n",
      "WARNING:pystan:Maximum (flat) parameter count (1000) exceeded: skipping diagnostic tests for n_eff and Rhat.\n",
      "To run all diagnostics call pystan.check_hmc_diagnostics(fit)\n",
      "WARNING:pystan:Chain 1: E-BFMI = 0.117\n",
      "WARNING:pystan:Chain 2: E-BFMI = 0.125\n",
      "WARNING:pystan:Chain 3: E-BFMI = 0.108\n",
      "WARNING:pystan:Chain 4: E-BFMI = 0.109\n",
      "WARNING:pystan:E-BFMI below 0.2 indicates you may need to reparameterize your model\n",
      "INFO:stancache.stancache:sampling: Execution completed (0:13:00.370336 elapsed)\n",
      "INFO:stancache.stancache:sampling: Saving results to cache\n",
      "/srv/conda/lib/python3.6/site-packages/stancache/stancache.py:285: UserWarning: Pickling fit objects is an experimental feature!\n",
      "The relevant StanModel instance must be pickled along with this fit object.\n",
      "When unpickling the StanModel must be unpickled first.\n",
      "  pickle.dump(res, open(cache_filepath, 'wb'), pickle.HIGHEST_PROTOCOL)\n"
     ]
    }
   ],
   "source": [
    "testfit = survivalstan.fit_stan_survival_model(\n",
    "    model_cohort = 'test model',\n",
    "    model_code = model_code,\n",
    "    df = dlong,\n",
    "    sample_col = 'index',\n",
    "    timepoint_end_col = 'end_time',\n",
    "    event_col = 'end_failure',\n",
    "    formula = '~ age_centered + sex',\n",
    "    iter = 5000,\n",
    "    chains = 4,\n",
    "    seed = 9001,\n",
    "    FIT_FUN = stancache.cached_stan_fit,\n",
    "    )\n"
   ]
  },
  {
   "cell_type": "code",
   "execution_count": 9,
   "metadata": {
    "collapsed": false
   },
   "outputs": [
    {
     "name": "stdout",
     "output_type": "stream",
     "text": [
      "            mean   se_mean         sd        2.5%        50%       97.5%      Rhat\n",
      "lp__ -287.781216  1.521948  25.841239 -337.843663 -288.32069 -236.827395  1.006161\n"
     ]
    }
   ],
   "source": [
    "survivalstan.utils.print_stan_summary([testfit], pars='lp__')"
   ]
  },
  {
   "cell_type": "code",
   "execution_count": 10,
   "metadata": {
    "collapsed": false
   },
   "outputs": [
    {
     "name": "stdout",
     "output_type": "stream",
     "text": [
      "                          mean   se_mean        sd      2.5%       50%     97.5%      Rhat\n",
      "log_baseline_raw[1]  -2.266052  0.022797  0.757871 -3.781383 -2.264353 -0.801449  1.002332\n",
      "log_baseline_raw[2]  -2.364431  0.022200  0.747522 -3.852205 -2.352824 -0.913209  1.002224\n",
      "log_baseline_raw[3]  -2.469519  0.022284  0.742275 -3.943979 -2.457068 -1.035849  1.001857\n",
      "log_baseline_raw[4]  -2.566836  0.022849  0.744848 -4.040161 -2.548941 -1.108471  1.001946\n",
      "log_baseline_raw[5]  -2.662735  0.023252  0.749227 -4.152525 -2.639411 -1.206405  1.001873\n",
      "log_baseline_raw[6]  -2.754253  0.024026  0.759507 -4.251543 -2.735682 -1.266185  1.001951\n",
      "log_baseline_raw[7]  -2.843475  0.024597  0.768474 -4.378099 -2.824548 -1.343800  1.001972\n",
      "log_baseline_raw[8]  -2.924604  0.025082  0.776434 -4.479474 -2.907346 -1.419350  1.002177\n",
      "log_baseline_raw[9]  -3.003173  0.025526  0.782436 -4.581052 -2.986473 -1.474753  1.002179\n",
      "log_baseline_raw[10] -3.073193  0.026218  0.791575 -4.648971 -3.066341 -1.511074  1.002226\n",
      "log_baseline_raw[11] -3.139566  0.026516  0.796587 -4.732211 -3.129224 -1.578292  1.002020\n",
      "log_baseline_raw[12] -3.209124  0.026946  0.799748 -4.801769 -3.197802 -1.646758  1.001927\n",
      "log_baseline_raw[13] -3.270523  0.027736  0.804584 -4.867368 -3.257556 -1.714762  1.001913\n",
      "log_baseline_raw[14] -3.324910  0.028008  0.806302 -4.952066 -3.322625 -1.770464  1.002156\n",
      "log_baseline_raw[15] -3.375416  0.028060  0.808821 -4.986150 -3.358505 -1.787048  1.002112\n",
      "log_baseline_raw[16] -3.418015  0.028232  0.809641 -5.020435 -3.403251 -1.825160  1.002190\n",
      "log_baseline_raw[17] -3.460291  0.028885  0.812362 -5.056463 -3.444036 -1.880696  1.002066\n",
      "log_baseline_raw[18] -3.498345  0.028933  0.812367 -5.117012 -3.495259 -1.892893  1.002061\n",
      "log_baseline_raw[19] -3.535051  0.028993  0.814328 -5.132985 -3.522936 -1.952877  1.002407\n",
      "log_baseline_raw[20] -3.568242  0.028936  0.815294 -5.190021 -3.565835 -1.994228  1.002462\n",
      "log_baseline_raw[21] -3.596620  0.028745  0.812500 -5.214018 -3.583318 -2.004260  1.002160\n",
      "log_baseline_raw[22] -3.627828  0.028897  0.816340 -5.249507 -3.621776 -2.027126  1.002112\n",
      "log_baseline_raw[23] -3.664812  0.028823  0.817502 -5.285838 -3.660719 -2.057037  1.002035\n",
      "log_baseline_raw[24] -3.694122  0.028644  0.816023 -5.313456 -3.679695 -2.101070  1.001962\n",
      "log_baseline_raw[25] -3.726449  0.028639  0.817342 -5.351640 -3.718952 -2.122747  1.001737\n",
      "log_baseline_raw[26] -3.754691  0.028893  0.819345 -5.393803 -3.751139 -2.151594  1.001739\n",
      "log_baseline_raw[27] -3.783266  0.028977  0.821166 -5.411232 -3.778064 -2.168727  1.001889\n",
      "log_baseline_raw[28] -3.808153  0.028980  0.821477 -5.440836 -3.796426 -2.203063  1.001925\n",
      "log_baseline_raw[29] -3.835505  0.028949  0.821662 -5.474397 -3.827508 -2.242330  1.002038\n",
      "log_baseline_raw[30] -3.860725  0.028877  0.817381 -5.478707 -3.848681 -2.272787  1.002150\n",
      "log_baseline_raw[31] -3.885441  0.028842  0.816953 -5.513805 -3.874989 -2.308918  1.002068\n",
      "log_baseline_raw[32] -3.908965  0.029221  0.816717 -5.532251 -3.896064 -2.326129  1.001938\n",
      "log_baseline_raw[33] -3.931273  0.029425  0.818813 -5.564209 -3.914277 -2.364230  1.001907\n",
      "log_baseline_raw[34] -3.953029  0.029330  0.820281 -5.578620 -3.943326 -2.385194  1.001686\n",
      "log_baseline_raw[35] -3.973201  0.029288  0.821152 -5.607299 -3.967871 -2.381836  1.001760\n",
      "log_baseline_raw[36] -3.995195  0.029151  0.819997 -5.641221 -3.982282 -2.410138  1.001859\n",
      "log_baseline_raw[37] -4.013542  0.028848  0.821193 -5.670351 -4.006696 -2.440001  1.001911\n",
      "log_baseline_raw[38] -4.032756  0.028732  0.821102 -5.672715 -4.031058 -2.435735  1.001869\n",
      "log_baseline_raw[39] -4.054814  0.028657  0.821730 -5.677297 -4.052578 -2.462860  1.002034\n",
      "log_baseline_raw[40] -4.077615  0.029048  0.820922 -5.714226 -4.078718 -2.484970  1.002175\n",
      "log_baseline_raw[41] -4.100401  0.029174  0.822995 -5.752051 -4.096290 -2.507281  1.002144\n",
      "log_baseline_raw[42] -4.120889  0.029157  0.823284 -5.771448 -4.114912 -2.524585  1.002094\n",
      "log_baseline_raw[43] -4.139251  0.029130  0.822729 -5.767588 -4.132056 -2.544751  1.001926\n",
      "log_baseline_raw[44] -4.163014  0.029071  0.821213 -5.812907 -4.159177 -2.570496  1.002177\n",
      "log_baseline_raw[45] -4.179724  0.028949  0.820050 -5.835372 -4.163769 -2.615221  1.002185\n",
      "log_baseline_raw[46] -4.197610  0.028892  0.822176 -5.823872 -4.189961 -2.597658  1.002236\n",
      "log_baseline_raw[47] -4.212008  0.029008  0.819808 -5.849129 -4.202241 -2.633780  1.002305\n",
      "log_baseline_raw[48] -4.225084  0.028957  0.818729 -5.848362 -4.215952 -2.643008  1.001915\n",
      "log_baseline_raw[49] -4.241355  0.029079  0.818991 -5.863295 -4.227776 -2.670875  1.001969\n",
      "log_baseline_raw[50] -4.256881  0.029008  0.818179 -5.891835 -4.254293 -2.664914  1.002075\n",
      "log_baseline_raw[51] -4.270769  0.029369  0.818646 -5.904414 -4.265443 -2.694613  1.002035\n",
      "log_baseline_raw[52] -4.282680  0.029372  0.818056 -5.931432 -4.278622 -2.698225  1.001975\n",
      "log_baseline_raw[53] -4.294047  0.029321  0.816835 -5.942168 -4.289579 -2.713233  1.002032\n",
      "log_baseline_raw[54] -4.305103  0.029514  0.818933 -5.933277 -4.298894 -2.706766  1.001916\n",
      "log_baseline_raw[55] -4.312760  0.029303  0.818738 -5.933212 -4.312261 -2.728168  1.001963\n",
      "log_baseline_raw[56] -4.324978  0.029258  0.820226 -5.964142 -4.319273 -2.726846  1.001836\n",
      "log_baseline_raw[57] -4.337596  0.029456  0.822980 -5.957788 -4.334267 -2.729425  1.001769\n",
      "log_baseline_raw[58] -4.350086  0.029573  0.823873 -5.990426 -4.349105 -2.740828  1.001933\n",
      "log_baseline_raw[59] -4.363347  0.029452  0.820318 -5.998213 -4.363577 -2.763006  1.001743\n",
      "log_baseline_raw[60] -4.376516  0.029280  0.821438 -6.019750 -4.373609 -2.763041  1.001752\n",
      "log_baseline_raw[61] -4.381173  0.029498  0.821282 -6.026957 -4.378750 -2.777419  1.001712\n",
      "log_baseline_raw[62] -4.390519  0.029471  0.821330 -6.018604 -4.387542 -2.796227  1.001823\n",
      "log_baseline_raw[63] -4.394140  0.029188  0.822449 -6.040613 -4.391103 -2.784246  1.001807\n",
      "log_baseline_raw[64] -4.400284  0.029012  0.820515 -6.045551 -4.401524 -2.807080  1.001888\n",
      "log_baseline_raw[65] -4.410931  0.029522  0.823018 -6.024781 -4.408396 -2.811094  1.001875\n",
      "log_baseline_raw[66] -4.417436  0.029669  0.823858 -6.064181 -4.411878 -2.834595  1.001887\n",
      "log_baseline_raw[67] -4.427447  0.029746  0.825849 -6.073543 -4.427379 -2.846127  1.001931\n",
      "log_baseline_raw[68] -4.438940  0.030008  0.828293 -6.087548 -4.432626 -2.846181  1.001923\n",
      "log_baseline_raw[69] -4.450288  0.030352  0.833324 -6.133451 -4.438808 -2.833132  1.002091\n",
      "log_baseline_raw[70] -4.459671  0.030378  0.836460 -6.138809 -4.454855 -2.830563  1.002030\n",
      "log_baseline_raw[71] -4.470068  0.030428  0.839366 -6.146245 -4.471940 -2.844583  1.001988\n",
      "log_baseline_raw[72] -4.481865  0.030131  0.841145 -6.155597 -4.480798 -2.860652  1.001826\n",
      "log_baseline_raw[73] -4.496755  0.030241  0.853279 -6.209481 -4.500568 -2.843853  1.001606\n",
      "log_baseline_raw[74] -4.515678  0.030588  0.864968 -6.246099 -4.505534 -2.848791  1.001712\n",
      "log_baseline_raw[75] -4.541684  0.031342  0.883239 -6.323431 -4.536108 -2.856660  1.001737\n"
     ]
    }
   ],
   "source": [
    "survivalstan.utils.print_stan_summary([testfit], pars='log_baseline_raw')"
   ]
  },
  {
   "cell_type": "code",
   "execution_count": 11,
   "metadata": {
    "collapsed": false
   },
   "outputs": [
    {
     "data": {
      "image/png": "[encoded data removed]",
      "text/plain": [
       "<Figure size 432x288 with 1 Axes>"
      ]
     },
     "metadata": {
      "needs_background": "light"
     },
     "output_type": "display_data"
    }
   ],
   "source": [
    "survivalstan.utils.plot_stan_summary([testfit], pars='log_baseline_raw')"
   ]
  },
  {
   "cell_type": "code",
   "execution_count": null,
   "metadata": {
    "collapsed": false
   },
   "outputs": [
    {
     "data": {
      "image/png": "[encoded data removed]",
      "text/plain": [
       "<Figure size 432x288 with 1 Axes>"
      ]
     },
     "metadata": {
      "needs_background": "light"
     },
     "output_type": "display_data"
    }
   ],
   "source": [
    "survivalstan.utils.plot_coefs([testfit], element='baseline')"
   ]
  },
  {
   "cell_type": "code",
   "execution_count": null,
   "metadata": {
    "collapsed": false
   },
   "outputs": [
    {
     "data": {
      "image/png": "[encoded data removed]",
      "text/plain": [
       "<Figure size 432x288 with 1 Axes>"
      ]
     },
     "metadata": {
      "needs_background": "light"
     },
     "output_type": "display_data"
    }
   ],
   "source": [
    "survivalstan.utils.plot_coefs([testfit])"
   ]
  },
  {
   "cell_type": "code",
   "execution_count": null,
   "metadata": {
    "collapsed": false
   },
   "outputs": [
    {
     "data": {
      "text/plain": [
       "<matplotlib.legend.Legend at 0x7f88f89bb748>"
      ]
     },
     "execution_count": 14,
     "metadata": {},
     "output_type": "execute_result"
    },
    {
     "data": {
      "image/png": "[encoded data removed]",
      "text/plain": [
       "<Figure size 432x288 with 1 Axes>"
      ]
     },
     "metadata": {
      "needs_background": "light"
     },
     "output_type": "display_data"
    }
   ],
   "source": [
    "survivalstan.utils.plot_pp_survival([testfit], fill=False)\n",
    "survivalstan.utils.plot_observed_survival(df=d, event_col='event', time_col='t', color='green', label='observed')\n",
    "plt.legend()"
   ]
  },
  {
   "cell_type": "code",
   "execution_count": null,
   "metadata": {
    "collapsed": false
   },
   "outputs": [],
   "source": [
    "survivalstan.utils.plot_pp_survival([testfit], by='sex')"
   ]
  },
  {
   "cell_type": "code",
   "execution_count": null,
   "metadata": {
    "collapsed": true
   },
   "outputs": [],
   "source": []
  },
  {
   "cell_type": "code",
   "execution_count": null,
   "metadata": {},
   "outputs": [],
   "source": []
  }
 ],
 "metadata": {
  "anaconda-cloud": {},
  "kernelspec": {
   "display_name": "Python 3",
   "language": "python",
   "name": "python3"
  },
  "language_info": {
   "codemirror_mode": {
    "name": "ipython",
    "version": 3
   },
   "file_extension": ".py",
   "mimetype": "text/x-python",
   "name": "python",
   "nbconvert_exporter": "python",
   "pygments_lexer": "ipython3",
   "version": "3.6.7"
  }
 },
 "nbformat": 4,
 "nbformat_minor": 2
}
